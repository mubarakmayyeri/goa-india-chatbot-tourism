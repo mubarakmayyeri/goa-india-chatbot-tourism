{
 "cells": [
  {
   "cell_type": "code",
   "execution_count": 1,
   "id": "8c885fc7",
   "metadata": {},
   "outputs": [],
   "source": [
    "# Importing necessary libraries\n",
    "import random\n",
    "import json\n",
    "import pickle\n",
    "import numpy as np\n",
    "import nltk\n",
    "from nltk.stem import WordNetLemmatizer"
   ]
  },
  {
   "cell_type": "code",
   "execution_count": 2,
   "id": "16db9d1b",
   "metadata": {},
   "outputs": [],
   "source": [
    "# Loading intents and lemmatizer\n",
    "lemmatizer = WordNetLemmatizer()\n",
    "\n",
    "intents = json.loads(open('intents.json').read())"
   ]
  },
  {
   "cell_type": "code",
   "execution_count": 6,
   "id": "8c37afd1",
   "metadata": {},
   "outputs": [],
   "source": [
    "# Preprocessing the intents\n",
    "words = []\n",
    "classes = []\n",
    "documents = []\n",
    "ignoreLetters = ['?', '!', '.', ',']\n",
    "\n",
    "for intent in intents['intents']:\n",
    "    for pattern in intent['patterns']:\n",
    "        wordList = nltk.word_tokenize(pattern)\n",
    "        words.extend(wordList)\n",
    "        documents.append((wordList, intent['tag']))\n",
    "        if intent['tag'] not in classes:\n",
    "            classes.append(intent['tag'])\n",
    "\n",
    "words = [lemmatizer.lemmatize(word) for word in words if word not in ignoreLetters]\n",
    "words = sorted(set(words))\n",
    "\n",
    "classes = sorted(set(classes))"
   ]
  },
  {
   "cell_type": "code",
   "execution_count": 5,
   "id": "2c7b7af3",
   "metadata": {},
   "outputs": [],
   "source": [
    "# Save the words as pickle files\n",
    "pickle.dump(words, open('words.pkl', 'wb'))\n",
    "pickle.dump(classes, open('classes.pkl', 'wb'))"
   ]
  }
 ],
 "metadata": {
  "kernelspec": {
   "display_name": "chatbot",
   "language": "python",
   "name": "chatbot"
  },
  "language_info": {
   "codemirror_mode": {
    "name": "ipython",
    "version": 3
   },
   "file_extension": ".py",
   "mimetype": "text/x-python",
   "name": "python",
   "nbconvert_exporter": "python",
   "pygments_lexer": "ipython3",
   "version": "3.9.16"
  }
 },
 "nbformat": 4,
 "nbformat_minor": 5
}
