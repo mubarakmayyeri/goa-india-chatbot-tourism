{
 "cells": [
  {
   "cell_type": "code",
   "execution_count": null,
   "id": "7b24463a",
   "metadata": {},
   "outputs": [],
   "source": []
  },
  {
   "cell_type": "code",
   "execution_count": null,
   "id": "2cb54763",
   "metadata": {},
   "outputs": [],
   "source": [
    "training = []\n",
    "outputEmpty = [0] * len(classes)\n",
    "\n",
    "for document in documents:\n",
    "    bag = []\n",
    "    wordPatterns = document[0]\n",
    "    wordPatterns = [lemmatizer.lemmatize(word.lower()) for word in wordPatterns]\n",
    "    for word in words:\n",
    "        bag.append(1) if word in wordPatterns else bag.append(0)\n",
    "\n",
    "    outputRow = list(outputEmpty)\n",
    "    outputRow[classes.index(document[1])] = 1\n",
    "    training.append(bag + outputRow)\n",
    "\n",
    "random.shuffle(training)\n",
    "training = np.array(training)\n",
    "\n",
    "trainX = training[:, :len(words)]\n",
    "trainY = training[:, len(words):]\n",
    "\n",
    "model = tf.keras.Sequential()\n",
    "model.add(tf.keras.layers.Dense(128, input_shape=(len(trainX[0]),), activation = 'relu'))\n",
    "model.add(tf.keras.layers.Dropout(0.5))\n",
    "model.add(tf.keras.layers.Dense(64, activation = 'relu'))\n",
    "model.add(tf.keras.layers.Dropout(0.5))\n",
    "model.add(tf.keras.layers.Dense(len(trainY[0]), activation='softmax'))\n",
    "\n",
    "sgd = tf.keras.optimizers.SGD(learning_rate=0.01, momentum=0.9, nesterov=True)\n",
    "model.compile(loss='categorical_crossentropy', optimizer=sgd, metrics=['accuracy'])\n",
    "\n",
    "model.fit(trainX, trainY, epochs=200, batch_size=5, verbose=1)\n",
    "model.save('chatbot_model.h5')\n",
    "print('Done')"
   ]
  }
 ],
 "metadata": {
  "kernelspec": {
   "display_name": "chatbot",
   "language": "python",
   "name": "chatbot"
  },
  "language_info": {
   "codemirror_mode": {
    "name": "ipython",
    "version": 3
   },
   "file_extension": ".py",
   "mimetype": "text/x-python",
   "name": "python",
   "nbconvert_exporter": "python",
   "pygments_lexer": "ipython3",
   "version": "3.9.16"
  }
 },
 "nbformat": 4,
 "nbformat_minor": 5
}
